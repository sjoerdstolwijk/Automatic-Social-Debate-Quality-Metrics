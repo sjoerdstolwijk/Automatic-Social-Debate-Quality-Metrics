{
 "cells": [
  {
   "cell_type": "code",
   "execution_count": 5,
   "id": "18a1773f-b0fa-4ab4-9c87-220bdae1748f",
   "metadata": {},
   "outputs": [],
   "source": [
    "import os\n",
    "import glob\n",
    "import torch\n",
    "import tqdm\n",
    "from transformers import AutoModelForSequenceClassification, AutoTokenizer, TextClassificationPipeline\n",
    "from sklearn.metrics import classification_report\n",
    "\n",
    "#!pip install transformers\n",
    "import pandas as pd\n",
    "from sklearn.model_selection import train_test_split\n",
    "import torch\n",
    "\n",
    "from sklearn.metrics import classification_report\n",
    "from sklearn.metrics import accuracy_score, precision_score, recall_score, f1_score\n",
    "from transformers import AutoTokenizer, AutoModel, TFAutoModel\n",
    "from transformers.models.auto.modeling_auto import AutoModelForSequenceClassification\n",
    "from transformers import AutoTokenizer, AutoModel\n",
    "\n",
    "from sklearn.metrics import accuracy_score, f1_score\n",
    "from sklearn.utils.class_weight import compute_sample_weight\n",
    "import numpy as np\n",
    "\n",
    "from transformers import Trainer, TrainingArguments\n",
    "from torch import nn\n",
    "\n",
    "from typing import Tuple\n",
    "from sklearn.metrics import classification_report\n",
    "\n",
    "import torch\n",
    "from sklearn.model_selection import train_test_split\n",
    "\n",
    "import glob\n",
    "\n",
    "import seaborn as sns\n",
    "import matplotlib.pyplot as plt\n",
    "\n",
    "# specify the directory path\n",
    "#dir_path = '../../../data/volume_2/publicsphere-new/'  # replace with the path to your folder\n",
    "dir_path = '../data/volume_2/publicsphere-data/publicsphere-new/'\n",
    "DATAPATH = 'data/'\n",
    "# use glob to get the list of folders"
   ]
  },
  {
   "cell_type": "code",
   "execution_count": 45,
   "id": "9302a1b2-e5f8-4187-83ed-6500fe2af2b1",
   "metadata": {},
   "outputs": [
    {
     "name": "stdout",
     "output_type": "stream",
     "text": [
      "HATELIST_FOCUSED_DUMMY Incivility\n",
      "this is the current concept: HATELIST_FOCUSED_DUMMY\n",
      "../data/volume_2/publicsphere-data/publicsphere-new/best_f1_model_HATELIST_FOCUSED_DUMMY_10_3e-05_0\n"
     ]
    },
    {
     "name": "stderr",
     "output_type": "stream",
     "text": [
      "/home/akroon/.local/lib/python3.8/site-packages/transformers/pipelines/text_classification.py:105: UserWarning: `return_all_scores` is now deprecated,  if want a similar functionality use `top_k=None` instead of `return_all_scores=True` or `top_k=1` instead of `return_all_scores=False`.\n",
      "  warnings.warn(\n"
     ]
    },
    {
     "name": "stdout",
     "output_type": "stream",
     "text": [
      "              precision    recall  f1-score   support\n",
      "\n",
      "           0       0.92      0.85      0.88       613\n",
      "           1       0.56      0.71      0.62       160\n",
      "\n",
      "    accuracy                           0.82       773\n",
      "   macro avg       0.74      0.78      0.75       773\n",
      "weighted avg       0.84      0.82      0.83       773\n",
      "\n",
      "INCIVILITY_DUMMY Incivility\n",
      "this is the current concept: INCIVILITY_DUMMY\n",
      "../data/volume_2/publicsphere-data/publicsphere-new/best_f1_model_INCIVILITY_DUMMY_10_3e-06_0\n"
     ]
    },
    {
     "name": "stderr",
     "output_type": "stream",
     "text": [
      "/home/akroon/.local/lib/python3.8/site-packages/transformers/pipelines/text_classification.py:105: UserWarning: `return_all_scores` is now deprecated,  if want a similar functionality use `top_k=None` instead of `return_all_scores=True` or `top_k=1` instead of `return_all_scores=False`.\n",
      "  warnings.warn(\n"
     ]
    },
    {
     "name": "stdout",
     "output_type": "stream",
     "text": [
      "              precision    recall  f1-score   support\n",
      "\n",
      "           0       0.74      0.75      0.75       408\n",
      "           1       0.72      0.70      0.71       365\n",
      "\n",
      "    accuracy                           0.73       773\n",
      "   macro avg       0.73      0.73      0.73       773\n",
      "weighted avg       0.73      0.73      0.73       773\n",
      "\n",
      "CONSERVATIVE_DUMMY Diversity\n",
      "this is the current concept: CONSERVATIVE_DUMMY\n",
      "../data/volume_2/publicsphere-data/publicsphere-new/best_f1_model_CONSERVATIVE_DUMMY_10_3e-06_100\n"
     ]
    },
    {
     "name": "stderr",
     "output_type": "stream",
     "text": [
      "/home/akroon/.local/lib/python3.8/site-packages/transformers/pipelines/text_classification.py:105: UserWarning: `return_all_scores` is now deprecated,  if want a similar functionality use `top_k=None` instead of `return_all_scores=True` or `top_k=1` instead of `return_all_scores=False`.\n",
      "  warnings.warn(\n"
     ]
    },
    {
     "name": "stdout",
     "output_type": "stream",
     "text": [
      "              precision    recall  f1-score   support\n",
      "\n",
      "           0       0.89      0.85      0.87       660\n",
      "           1       0.31      0.41      0.35       113\n",
      "\n",
      "    accuracy                           0.78       773\n",
      "   macro avg       0.60      0.63      0.61       773\n",
      "weighted avg       0.81      0.78      0.79       773\n",
      "\n",
      "RATIONALITY_DUMMY Rationality\n",
      "this is the current concept: RATIONALITY_DUMMY\n",
      "../data/volume_2/publicsphere-data/publicsphere-new/best_f1_model_RATIONALITY_DUMMY_10_3e-06_0\n"
     ]
    },
    {
     "name": "stderr",
     "output_type": "stream",
     "text": [
      "/home/akroon/.local/lib/python3.8/site-packages/transformers/pipelines/text_classification.py:105: UserWarning: `return_all_scores` is now deprecated,  if want a similar functionality use `top_k=None` instead of `return_all_scores=True` or `top_k=1` instead of `return_all_scores=False`.\n",
      "  warnings.warn(\n"
     ]
    },
    {
     "name": "stdout",
     "output_type": "stream",
     "text": [
      "              precision    recall  f1-score   support\n",
      "\n",
      "           0       0.89      0.88      0.89       624\n",
      "           1       0.54      0.56      0.55       149\n",
      "\n",
      "    accuracy                           0.82       773\n",
      "   macro avg       0.72      0.72      0.72       773\n",
      "weighted avg       0.83      0.82      0.82       773\n",
      "\n",
      "HAS_OPINION_DUMMY Diversity\n",
      "this is the current concept: HAS_OPINION_DUMMY\n",
      "../data/volume_2/publicsphere-data/publicsphere-new/best_f1_model_HAS_OPINION_DUMMY_10_3e-07_100\n"
     ]
    },
    {
     "name": "stderr",
     "output_type": "stream",
     "text": [
      "/home/akroon/.local/lib/python3.8/site-packages/transformers/pipelines/text_classification.py:105: UserWarning: `return_all_scores` is now deprecated,  if want a similar functionality use `top_k=None` instead of `return_all_scores=True` or `top_k=1` instead of `return_all_scores=False`.\n",
      "  warnings.warn(\n"
     ]
    },
    {
     "name": "stdout",
     "output_type": "stream",
     "text": [
      "              precision    recall  f1-score   support\n",
      "\n",
      "           0       0.81      0.24      0.37       402\n",
      "           1       0.53      0.94      0.68       371\n",
      "\n",
      "    accuracy                           0.57       773\n",
      "   macro avg       0.67      0.59      0.52       773\n",
      "weighted avg       0.68      0.57      0.52       773\n",
      "\n",
      "INTERACTIVITY_DUMMY Interactivity\n",
      "this is the current concept: INTERACTIVITY_DUMMY\n",
      "../data/volume_2/publicsphere-data/publicsphere-new/best_f1_model_INTERACTIVITY_DUMMY_10_3e-06_0\n"
     ]
    },
    {
     "name": "stderr",
     "output_type": "stream",
     "text": [
      "/home/akroon/.local/lib/python3.8/site-packages/transformers/pipelines/text_classification.py:105: UserWarning: `return_all_scores` is now deprecated,  if want a similar functionality use `top_k=None` instead of `return_all_scores=True` or `top_k=1` instead of `return_all_scores=False`.\n",
      "  warnings.warn(\n"
     ]
    },
    {
     "name": "stdout",
     "output_type": "stream",
     "text": [
      "              precision    recall  f1-score   support\n",
      "\n",
      "           0       0.87      0.84      0.86       559\n",
      "           1       0.62      0.68      0.65       214\n",
      "\n",
      "    accuracy                           0.79       773\n",
      "   macro avg       0.74      0.76      0.75       773\n",
      "weighted avg       0.80      0.79      0.80       773\n",
      "\n",
      "LIBERAL_DUMMY Diversity\n",
      "this is the current concept: LIBERAL_DUMMY\n",
      "../data/volume_2/publicsphere-data/publicsphere-new/best_f1_model_LIBERAL_DUMMY_10_3e-06_0\n"
     ]
    },
    {
     "name": "stderr",
     "output_type": "stream",
     "text": [
      "/home/akroon/.local/lib/python3.8/site-packages/transformers/pipelines/text_classification.py:105: UserWarning: `return_all_scores` is now deprecated,  if want a similar functionality use `top_k=None` instead of `return_all_scores=True` or `top_k=1` instead of `return_all_scores=False`.\n",
      "  warnings.warn(\n"
     ]
    },
    {
     "name": "stdout",
     "output_type": "stream",
     "text": [
      "              precision    recall  f1-score   support\n",
      "\n",
      "           0       0.92      0.59      0.72       633\n",
      "           1       0.30      0.78      0.43       140\n",
      "\n",
      "    accuracy                           0.62       773\n",
      "   macro avg       0.61      0.68      0.57       773\n",
      "weighted avg       0.81      0.62      0.67       773\n",
      "\n"
     ]
    }
   ],
   "source": [
    "test_variables = ['INTERACTIVITY_DUMMY', 'INCIVILITY_DUMMY', 'HATELIST_FOCUSED_DUMMY', 'RATIONALITY_DUMMY', 'HAS_OPINION_DUMMY', 'LIBERAL_DUMMY', 'CONSERVATIVE_DUMMY']\n",
    "\n",
    "train_set = pd.read_csv(f'{DATAPATH}train.csv')[test_variables+['ID']+['commentText']]  \n",
    "test_set = pd.read_csv(f'{DATAPATH}test.csv')[test_variables+['ID']+['commentText']]  \n",
    "\n",
    "class My_Dataset(torch.utils.data.Dataset):\n",
    "    def __init__(self, encodings, labels):\n",
    "        self.encodings = encodings\n",
    "        self.labels = labels\n",
    "\n",
    "    def __getitem__(self, idx):\n",
    "        item = {key: torch.tensor(val[idx]) for key, val in self.encodings.items()}\n",
    "        item['labels'] = torch.tensor(self.labels[idx])\n",
    "        return item\n",
    "    \n",
    "    def __len__(self):\n",
    "        return len(self.labels)\n",
    "    \n",
    "def create_datasets(concept, train_set, test_set, tokenizer, max_length=512, test_size=.2, random_state=42):\n",
    "    \n",
    "    train_labels = train_set[concept]\n",
    "    test_labels =  test_set[concept]\n",
    "    train_texts = train_set['commentText'] \n",
    "    test_texts =  test_set['commentText']\n",
    "    \n",
    "    train_texts, val_texts, train_labels, val_labels = train_test_split(list(train_texts), list(train_labels), test_size=test_size, random_state=random_state)\n",
    "\n",
    "    train_encodings = tokenizer(train_texts, truncation=True, padding=True, max_length=max_length)\n",
    "    val_encodings = tokenizer(val_texts, truncation=True, padding=True, max_length=max_length)\n",
    "    test_encodings  = tokenizer(list(test_texts), truncation=True, padding=True, max_length=max_length)\n",
    "\n",
    "    train_dataset = My_Dataset(train_encodings, train_labels)\n",
    "    val_dataset = My_Dataset(val_encodings, val_labels)\n",
    "    test_dataset = My_Dataset(test_encodings, test_labels)\n",
    "\n",
    "    return train_dataset, val_dataset, test_dataset, train_texts, val_texts, test_texts, train_labels, val_labels, test_labels\n",
    "\n",
    "\n",
    "\n",
    "def get_class_report(CONCEPT):\n",
    "    \n",
    "    print(f\"this is the current concept: {CONCEPT}\")\n",
    "    \n",
    "    search_string = f\"*{CONCEPT}*\"  # the part of the filename you want to match\n",
    "    file = glob.glob(f'{dir_path}{search_string}')[0]\n",
    "\n",
    "    train_dataset, val_dataset, test_dataset, train_texts, val_texts, test_texts, train_labels, val_labels, test_labels = create_datasets(CONCEPT, train_set, test_set, tokenizer, max_length=512, test_size=.2, random_state=42)\n",
    "    model = AutoModelForSequenceClassification.from_pretrained(f'{file}', num_labels=2)\n",
    "    \n",
    "    pipe = TextClassificationPipeline(model=model, tokenizer=tokenizer, return_all_scores=True, device=0)\n",
    "    predicted_test_scores = pipe(list(test_texts), truncation=True)\n",
    "    predicted_test_labels = [int(max(prediction, key=lambda x: x['score'])['label'].split('_')[-1]) for prediction in predicted_test_scores]\n",
    "\n",
    "    print(classification_report(test_labels, predicted_test_labels))    \n",
    "\n",
    "    df = pd.DataFrame({'commentText': test_set['commentText'], 'ID': test_set['ID'], 'Text': test_texts, 'Predicted_Label': predicted_test_labels, 'True_Label': test_labels})\n",
    "    return classification_report(test_labels, predicted_test_labels, output_dict=True), df\n",
    "\n",
    "measure_variables = ['INTERACTIVITY_DUMMY_TRANSFORM', 'INCIVILITY_DUMMY_TRANSFORM', 'HATELIST_FOCUSED_DUMMY_TRANSFORM', 'RATIONALITY_DUMMY_TRANSFORM', 'HAS_OPINION_DUMMY_TRANSFORM', 'LIBERAL_DUMMY_TRANSFORM', 'CONSERVATIVE_DUMMY_TRANSFORM']\n",
    "\n",
    "model_name = 'bert-base-uncased'\n",
    "tokenizer = AutoTokenizer.from_pretrained(model_name)\n",
    "    \n",
    "results = pd.read_csv('outputs/evaluation/PRF1_test.csv')\n",
    "test_dimensions = set(zip(results.Dimension, results.Label))\n",
    "\n",
    "performance = []\n",
    "\n",
    "classif = ['0', '1', 'macro avg', 'weighted avg']\n",
    "\n",
    "all_test_dfs = []\n",
    "\n",
    "for label in test_dimensions:\n",
    "    print(label[1], label[0])\n",
    "    \n",
    "    classfication, test_df = get_class_report(label[1])\n",
    "    test_df[label[1]] = test_df['Predicted_Label']\n",
    "\n",
    "    \n",
    "    for c in classif:\n",
    "        performance.append({'Dimension': label[0], 'Label':label[1], 'Measures': f'{label[1]}_TRANSFORM', 'Class':c,'Precision':classfication[c]['precision'],\n",
    "                                            'Recall':classfication[c]['recall'],'F1-score':classfication[c]['f1-score'],'support':classfication[c]['support'],'Accuracy_overall':classfication['accuracy']}) \n",
    "    all_test_dfs.append(test_df[['commentText', 'ID', 'Text', label[1]]])\n",
    "    \n",
    "performance_df = pd.DataFrame(performance)\n",
    "final_test_df = pd.concat(all_test_dfs, ignore_index=True)"
   ]
  },
  {
   "cell_type": "code",
   "execution_count": 49,
   "id": "cbb61408-ce2c-4bf7-896a-d5dd784ad3ff",
   "metadata": {},
   "outputs": [],
   "source": [
    "# create one .csv file with all results\n",
    "\n",
    "final_test_df = all_test_dfs[0]\n",
    "for df in all_test_dfs[1:]:\n",
    "    final_test_df = pd.merge(final_test_df, df, on=['commentText', 'ID', 'Text'], how='outer')\n",
    "final_test_df.drop('Text', axis=1, inplace=True)\n",
    "\n",
    "new_column_names = {\n",
    "    'HATELIST_FOCUSED_DUMMY': 'HATELIST_FOCUSED_DUMMY_FT',\n",
    "    'INCIVILITY_DUMMY': 'INCIVILITY_DUMMY_FT',\n",
    "    'CONSERVATIVE_DUMMY': 'CONSERVATIVE_DUMMY_FT',\n",
    "    'RATIONALITY_DUMMY': 'RATIONALITY_DUMMY_FT',\n",
    "    'HAS_OPINION_DUMMY': 'HAS_OPINION_DUMMY_FT',\n",
    "    'INTERACTIVITY_DUMMY': 'INTERACTIVITY_DUMMY_FT',\n",
    "    'LIBERAL_DUMMY': 'LIBERAL_DUMMY_FT'\n",
    "}\n",
    "\n",
    "final_test_df.rename(columns=new_column_names, inplace=True)"
   ]
  },
  {
   "cell_type": "code",
   "execution_count": 70,
   "id": "724a7c5a-ffcc-488c-8a5a-228533bc24c9",
   "metadata": {},
   "outputs": [
    {
     "data": {
      "text/html": [
       "<div>\n",
       "<style scoped>\n",
       "    .dataframe tbody tr th:only-of-type {\n",
       "        vertical-align: middle;\n",
       "    }\n",
       "\n",
       "    .dataframe tbody tr th {\n",
       "        vertical-align: top;\n",
       "    }\n",
       "\n",
       "    .dataframe thead th {\n",
       "        text-align: right;\n",
       "    }\n",
       "</style>\n",
       "<table border=\"1\" class=\"dataframe\">\n",
       "  <thead>\n",
       "    <tr style=\"text-align: right;\">\n",
       "      <th></th>\n",
       "      <th>commentText</th>\n",
       "      <th>ID</th>\n",
       "      <th>HATELIST_FOCUSED_DUMMY_FT</th>\n",
       "      <th>INCIVILITY_DUMMY_FT</th>\n",
       "      <th>CONSERVATIVE_DUMMY_FT</th>\n",
       "      <th>RATIONALITY_DUMMY_FT</th>\n",
       "      <th>HAS_OPINION_DUMMY_FT</th>\n",
       "      <th>INTERACTIVITY_DUMMY_FT</th>\n",
       "      <th>LIBERAL_DUMMY_FT</th>\n",
       "    </tr>\n",
       "  </thead>\n",
       "  <tbody>\n",
       "    <tr>\n",
       "      <th>0</th>\n",
       "      <td>That's a vicious insult!!! What did a box of r...</td>\n",
       "      <td>Ugx2WXq9UdV8mPPjejJ4AaABAg.8yHCKV0Boe58yYRxEQEF45</td>\n",
       "      <td>1</td>\n",
       "      <td>1</td>\n",
       "      <td>0</td>\n",
       "      <td>0</td>\n",
       "      <td>1</td>\n",
       "      <td>1</td>\n",
       "      <td>0</td>\n",
       "    </tr>\n",
       "    <tr>\n",
       "      <th>1</th>\n",
       "      <td>Goya Solidar.  So there are a few of us left. ...</td>\n",
       "      <td>UgwUPFScjJ0MCeaP2F54AaABAg.8lvp3fc9Euf8lvvgsUgEgV</td>\n",
       "      <td>0</td>\n",
       "      <td>0</td>\n",
       "      <td>0</td>\n",
       "      <td>0</td>\n",
       "      <td>1</td>\n",
       "      <td>1</td>\n",
       "      <td>1</td>\n",
       "    </tr>\n",
       "    <tr>\n",
       "      <th>2</th>\n",
       "      <td>Trump is a Traitor!  Lock that coward up!</td>\n",
       "      <td>UgwRZv_F4VDm_-Z-f6l4AaABAg</td>\n",
       "      <td>1</td>\n",
       "      <td>1</td>\n",
       "      <td>1</td>\n",
       "      <td>0</td>\n",
       "      <td>1</td>\n",
       "      <td>0</td>\n",
       "      <td>1</td>\n",
       "    </tr>\n",
       "  </tbody>\n",
       "</table>\n",
       "</div>"
      ],
      "text/plain": [
       "                                         commentText  \\\n",
       "0  That's a vicious insult!!! What did a box of r...   \n",
       "1  Goya Solidar.  So there are a few of us left. ...   \n",
       "2          Trump is a Traitor!  Lock that coward up!   \n",
       "\n",
       "                                                  ID  \\\n",
       "0  Ugx2WXq9UdV8mPPjejJ4AaABAg.8yHCKV0Boe58yYRxEQEF45   \n",
       "1  UgwUPFScjJ0MCeaP2F54AaABAg.8lvp3fc9Euf8lvvgsUgEgV   \n",
       "2                         UgwRZv_F4VDm_-Z-f6l4AaABAg   \n",
       "\n",
       "   HATELIST_FOCUSED_DUMMY_FT  INCIVILITY_DUMMY_FT  CONSERVATIVE_DUMMY_FT  \\\n",
       "0                          1                    1                      0   \n",
       "1                          0                    0                      0   \n",
       "2                          1                    1                      1   \n",
       "\n",
       "   RATIONALITY_DUMMY_FT  HAS_OPINION_DUMMY_FT  INTERACTIVITY_DUMMY_FT  \\\n",
       "0                     0                     1                       1   \n",
       "1                     0                     1                       1   \n",
       "2                     0                     1                       0   \n",
       "\n",
       "   LIBERAL_DUMMY_FT  \n",
       "0                 0  \n",
       "1                 1  \n",
       "2                 1  "
      ]
     },
     "execution_count": 70,
     "metadata": {},
     "output_type": "execute_result"
    }
   ],
   "source": [
    "final_test_df.head(3)"
   ]
  },
  {
   "cell_type": "code",
   "execution_count": 68,
   "id": "701acef3-512b-4329-8b69-94cc6bfd18d6",
   "metadata": {},
   "outputs": [],
   "source": [
    "final_test_df.to_csv('outputs/automated_results/prediction_FT.csv')"
   ]
  },
  {
   "cell_type": "code",
   "execution_count": 67,
   "id": "c7fe80a7-5ab0-4004-84be-13a48315f9a0",
   "metadata": {},
   "outputs": [],
   "source": [
    "performance_df.to_csv('outputs/evaluation/PRF1_test_including_transformers.csv')"
   ]
  },
  {
   "cell_type": "code",
   "execution_count": 71,
   "id": "51817707-091f-4805-aa78-ff1caeec6cea",
   "metadata": {},
   "outputs": [
    {
     "data": {
      "image/png": "[encoded data removed]",
      "text/plain": [
       "<Figure size 1200x800 with 1 Axes>"
      ]
     },
     "metadata": {},
     "output_type": "display_data"
    }
   ],
   "source": [
    "# Concatenate the DataFrames\n",
    "f_results = pd.concat([results, performance_df], ignore_index=True)\n",
    "f_results.sort_values(by=['Dimension', 'Label', 'Measures'], inplace=True)\n",
    "f_results['approach'] = f_results['Measures'].apply(lambda x: 'traditional_ML' if x.endswith('_ML') else 'finetuned' if x.endswith('_TRANSFORM') else 'dictionary')\n",
    "#f_results.to_csv('results_with_transformers.csv')\n",
    "\n",
    "# create figure and set its size\n",
    "plt.figure(figsize=(12, 8))\n",
    "# set plot style\n",
    "sns.set_style('whitegrid')\n",
    "\n",
    "# plot bar plot\n",
    "g = sns.barplot(data=f_results[f_results['Class']=='macro avg'], y='Label', x='F1-score', hue='approach', palette='bright')"
   ]
  }
 ],
 "metadata": {
  "kernelspec": {
   "display_name": "Python 3 (ipykernel)",
   "language": "python",
   "name": "python3"
  },
  "language_info": {
   "codemirror_mode": {
    "name": "ipython",
    "version": 3
   },
   "file_extension": ".py",
   "mimetype": "text/x-python",
   "name": "python",
   "nbconvert_exporter": "python",
   "pygments_lexer": "ipython3",
   "version": "3.8.10"
  }
 },
 "nbformat": 4,
 "nbformat_minor": 5
}
